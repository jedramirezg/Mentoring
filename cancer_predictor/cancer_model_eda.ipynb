{
 "cells": [
  {
   "cell_type": "markdown",
   "metadata": {},
   "source": [
    "1. Importacion librerias"
   ]
  },
  {
   "cell_type": "code",
   "execution_count": null,
   "metadata": {},
   "outputs": [],
   "source": []
  },
  {
   "cell_type": "code",
   "execution_count": null,
   "metadata": {},
   "outputs": [],
   "source": [
    "import pandas as pd\n",
    "from sklearn.ensemble import RandomForestClassifier\n",
    "from sklearn import preprocessing\n",
    "from sklearn.model_selection import train_test_split\n",
    "from sklearn.metrics import confusion_matrix, accuracy_score\n",
    "from pydantic import BaseModel\n",
    "import joblib\n",
    "import seaborn as sns\n",
    "import matplotlib.pyplot as plt"
   ]
  },
  {
   "cell_type": "markdown",
   "metadata": {},
   "source": [
    "## EDA"
   ]
  },
  {
   "cell_type": "code",
   "execution_count": null,
   "metadata": {},
   "outputs": [],
   "source": [
    "df = pd.read_csv('./patients.csv')\n",
    "df.head()"
   ]
  },
  {
   "cell_type": "code",
   "execution_count": null,
   "metadata": {},
   "outputs": [],
   "source": []
  },
  {
   "cell_type": "code",
   "execution_count": null,
   "metadata": {},
   "outputs": [],
   "source": []
  },
  {
   "cell_type": "markdown",
   "metadata": {},
   "source": [
    "# AGE\n"
   ]
  },
  {
   "cell_type": "code",
   "execution_count": null,
   "metadata": {},
   "outputs": [],
   "source": [
    "age_range = df.copy()\n",
    "range_ = age_range.groupby(['age']).size().reset_index(name='total_patients')\n",
    "range_.sort_values(by = 'total_patients', ascending = False, inplace = False)"
   ]
  },
  {
   "cell_type": "code",
   "execution_count": null,
   "metadata": {},
   "outputs": [],
   "source": [
    "sns.set()\n",
    "plt.subplots(figsize=(20,7))\n",
    "\n",
    "age_data = sns.barplot(x = 'age', y = 'total_patients', data = range_)\n",
    "age_data.set_xticklabels(age_data.get_xticklabels(),\n",
    "                         rotation=90,\n",
    "                         fontdict={'fontsize':10})\n",
    "age_data.set_title('Patients by age range', size=20)"
   ]
  },
  {
   "cell_type": "code",
   "execution_count": null,
   "metadata": {},
   "outputs": [],
   "source": [
    "pd.crosstab(index=age_range['irradiat'],\n",
    "            columns=age_range['age'], margins=True)"
   ]
  },
  {
   "cell_type": "code",
   "execution_count": null,
   "metadata": {},
   "outputs": [],
   "source": [
    "pd.crosstab(index=age_range['menopause'],\n",
    "            columns=age_range['age'], margins=True)"
   ]
  },
  {
   "cell_type": "markdown",
   "metadata": {},
   "source": [
    "# Tumor Size"
   ]
  },
  {
   "cell_type": "code",
   "execution_count": null,
   "metadata": {},
   "outputs": [],
   "source": [
    "tumor_size = df.copy()\n",
    "tumor_ = tumor_size.groupby(['tumor_size']).size().reset_index(name='total_patients')\n",
    "# tumor_.sort_values(by = 'total_patients', ascending = False, inplace = False)\n",
    "tumor_"
   ]
  },
  {
   "cell_type": "code",
   "execution_count": null,
   "metadata": {},
   "outputs": [],
   "source": [
    "# sns.set()\n",
    "# plt.subplots(figsize=(20,7))\n",
    "\n",
    "tumor_data = sns.barplot(x = 'tumor_size', y = 'total_patients', data = tumor_)\n",
    "tumor_data.set_xticklabels(tumor_data.get_xticklabels(),\n",
    "                         rotation=90,\n",
    "                         fontdict={'fontsize':10})\n",
    "tumor_data.set_title('Patients by tumor size', size=20)"
   ]
  },
  {
   "cell_type": "code",
   "execution_count": null,
   "metadata": {},
   "outputs": [],
   "source": [
    "pd.crosstab(index=tumor_size['irradiat'],\n",
    "            columns=tumor_size['tumor_size'], margins=True)"
   ]
  },
  {
   "cell_type": "code",
   "execution_count": null,
   "metadata": {},
   "outputs": [],
   "source": [
    "pd.crosstab(index=tumor_size['irradiat'], columns=tumor_size['tumor_size'],\n",
    "            margins=True).apply(lambda r: round(r/len(tumor_size) *100,2),\n",
    "                                axis=1)"
   ]
  },
  {
   "cell_type": "markdown",
   "metadata": {},
   "source": [
    "# Deg malig"
   ]
  },
  {
   "cell_type": "code",
   "execution_count": null,
   "metadata": {},
   "outputs": [],
   "source": [
    "deg_malig = df.copy()\n",
    "deg = deg_malig.groupby(['deg_maling']).size().reset_index(name='total_patients')\n",
    "# tumor_.sort_values(by = 'total_patients', ascending = False, inplace = False)\n",
    "deg"
   ]
  },
  {
   "cell_type": "code",
   "execution_count": null,
   "metadata": {},
   "outputs": [],
   "source": [
    "deg_data = sns.barplot(x = 'deg_maling', y = 'total_patients', data = deg)\n",
    "deg_data.set_xticklabels(deg_data.get_xticklabels(),\n",
    "                         rotation=90,\n",
    "                         fontdict={'fontsize':10})\n",
    "deg_data.set_title('Patients by deg malig', size=20)"
   ]
  },
  {
   "cell_type": "code",
   "execution_count": null,
   "metadata": {},
   "outputs": [],
   "source": [
    "pd.crosstab(index=deg_malig['irradiat'],\n",
    "            columns=deg_malig['deg_maling'], margins=True)"
   ]
  },
  {
   "cell_type": "markdown",
   "metadata": {},
   "source": [
    "## Menopause"
   ]
  },
  {
   "cell_type": "code",
   "execution_count": null,
   "metadata": {},
   "outputs": [],
   "source": [
    "menopause_ = df.copy()\n",
    "menopause = menopause_.groupby(['menopause']).size().reset_index(name='total_patients')\n",
    "# tumor_.sort_values(by = 'total_patients', ascending = False, inplace = False)\n",
    "menopause "
   ]
  },
  {
   "cell_type": "code",
   "execution_count": null,
   "metadata": {},
   "outputs": [],
   "source": [
    "pd.crosstab(index=menopause_['irradiat'],\n",
    "            columns=menopause_['menopause'], margins=True)"
   ]
  },
  {
   "cell_type": "markdown",
   "metadata": {},
   "source": [
    "## class_"
   ]
  },
  {
   "cell_type": "code",
   "execution_count": null,
   "metadata": {},
   "outputs": [],
   "source": [
    "class_ = df.copy()\n",
    "class_data = class_.groupby(['class_']).size().reset_index(name='total_patients')\n",
    "# tumor_.sort_values(by = 'total_patients', ascending = False, inplace = False)\n",
    "class_data"
   ]
  },
  {
   "cell_type": "code",
   "execution_count": null,
   "metadata": {},
   "outputs": [],
   "source": [
    "pd.crosstab(index=class_['irradiat'],\n",
    "            columns=class_['class_'], margins=True)"
   ]
  },
  {
   "cell_type": "code",
   "execution_count": null,
   "metadata": {},
   "outputs": [],
   "source": [
    "pd.crosstab(index=class_['irradiat'],\n",
    "            columns=class_['class_'],\n",
    "            margins=True).apply(lambda r: round(r/len(class_) *100,2),\n",
    "                                axis=1)"
   ]
  },
  {
   "cell_type": "markdown",
   "metadata": {},
   "source": [
    "2. Clase que hereda BaseModel con caracteristicas de los pacientes"
   ]
  },
  {
   "cell_type": "code",
   "execution_count": null,
   "metadata": {},
   "outputs": [],
   "source": []
  },
  {
   "cell_type": "code",
   "execution_count": null,
   "metadata": {
    "lines_to_next_cell": 2
   },
   "outputs": [],
   "source": []
  },
  {
   "cell_type": "code",
   "execution_count": null,
   "metadata": {},
   "outputs": [],
   "source": [
    "df_train, df_test = train_test_split(df, test_size = 0.3)"
   ]
  },
  {
   "cell_type": "code",
   "execution_count": null,
   "metadata": {},
   "outputs": [],
   "source": [
    "def dummies_model(df, df_prep):\n",
    "    \n",
    "    x = df.drop('irradiat', axis=1)\n",
    "    \n",
    "    data_preproccesing = pd.get_dummies(x)\n",
    "    data_columns = data_preproccesing.columns\n",
    "    \n",
    "    df_model = pd.DataFrame(columns=data_columns)\n",
    "    \n",
    "    x_model = df_prep.drop('irradiat', axis=1)\n",
    "    y_model = df_prep['irradiat']\n",
    "    \n",
    "    data_preproccesing = pd.get_dummies(x_model)\n",
    "    data = pd.concat([df_model, data_preproccesing], axis=0).fillna(0)\n",
    "    \n",
    "    return data, y_model"
   ]
  },
  {
   "cell_type": "code",
   "execution_count": null,
   "metadata": {},
   "outputs": [],
   "source": [
    "rfc = RandomForestClassifier()\n",
    "model = rfc.fit(dummies_model(df, df_train)[0], dummies_model(df, df_train)[1])"
   ]
  },
  {
   "cell_type": "code",
   "execution_count": null,
   "metadata": {},
   "outputs": [],
   "source": [
    "df_train['y_predict'] = model.predict(dummies_model(df, df_train)[0])\n",
    "df_train.head()"
   ]
  },
  {
   "cell_type": "code",
   "execution_count": null,
   "metadata": {},
   "outputs": [],
   "source": [
    "confusion_matrix(df_train['irradiat'], df_train['y_predict'])"
   ]
  },
  {
   "cell_type": "code",
   "execution_count": null,
   "metadata": {},
   "outputs": [],
   "source": [
    "accuracy_score(df_train['irradiat'], df_train['y_predict'])"
   ]
  },
  {
   "cell_type": "code",
   "execution_count": null,
   "metadata": {},
   "outputs": [],
   "source": [
    "df_test['y_predict'] = model.predict(dummies_model(df, df_test)[0])\n",
    "df_test.head()"
   ]
  },
  {
   "cell_type": "code",
   "execution_count": null,
   "metadata": {},
   "outputs": [],
   "source": []
  },
  {
   "cell_type": "code",
   "execution_count": null,
   "metadata": {},
   "outputs": [],
   "source": [
    "confusion_matrix(df_test['irradiat'], df_test['y_predict'])"
   ]
  },
  {
   "cell_type": "code",
   "execution_count": null,
   "metadata": {},
   "outputs": [],
   "source": [
    "accuracy_score(df_test['irradiat'], df_test['y_predict'])"
   ]
  },
  {
   "cell_type": "code",
   "execution_count": null,
   "metadata": {},
   "outputs": [],
   "source": []
  },
  {
   "cell_type": "code",
   "execution_count": null,
   "metadata": {},
   "outputs": [],
   "source": []
  },
  {
   "cell_type": "code",
   "execution_count": null,
   "metadata": {},
   "outputs": [],
   "source": []
  },
  {
   "cell_type": "code",
   "execution_count": null,
   "metadata": {},
   "outputs": [],
   "source": []
  }
 ],
 "metadata": {
  "jupytext": {
   "cell_metadata_filter": "-all",
   "main_language": "python",
   "notebook_metadata_filter": "-all"
  }
 },
 "nbformat": 4,
 "nbformat_minor": 4
}
